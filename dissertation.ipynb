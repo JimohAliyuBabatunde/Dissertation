{
 "cells": [
  {
   "cell_type": "code",
   "execution_count": 224,
   "id": "efb0b7f7",
   "metadata": {},
   "outputs": [],
   "source": [
    "import pandas as pd\n",
    "import numpy as np\n",
    "import os\n",
    "import matplotlib.pyplot as plt\n",
    "import seaborn as sns\n",
    "\n",
    "\n",
    "from sklearn.preprocessing import OneHotEncoder, StandardScaler\n",
    "from sklearn.impute import SimpleImputer\n",
    "from sklearn.compose import ColumnTransformer\n",
    "from sklearn.pipeline import Pipeline\n",
    "from sklearn.preprocessing import FunctionTransformer"
   ]
  },
  {
   "cell_type": "code",
   "execution_count": 135,
   "id": "41fef60c",
   "metadata": {},
   "outputs": [],
   "source": [
    "df = pd.read_csv('/users''/broda''/downloads''/Health_Heart.csv')"
   ]
  },
  {
   "cell_type": "code",
   "execution_count": 136,
   "id": "e0eac27e",
   "metadata": {},
   "outputs": [],
   "source": [
    "def categorize_age(df):\n",
    "    df['Age_Group'] = pd.cut(df['Age'], bins=[0, 35, 50, 65, float('inf')], labels=['Young Adult', 'Middle-Aged', 'Senior', 'Elderly'])\n",
    "    return df"
   ]
  },
  {
   "cell_type": "code",
   "execution_count": 137,
   "id": "e4707c50",
   "metadata": {},
   "outputs": [],
   "source": [
    "numerical_features = ['Age']\n",
    "target = 'Heart Disease'"
   ]
  },
  {
   "cell_type": "code",
   "execution_count": 138,
   "id": "779cea74",
   "metadata": {},
   "outputs": [],
   "source": [
    "preprocessor = Pipeline([\n",
    "    ('scaler', StandardScaler())])"
   ]
  },
  {
   "cell_type": "code",
   "execution_count": 139,
   "id": "d5c231a3",
   "metadata": {},
   "outputs": [],
   "source": [
    "X = df[numerical_features]\n",
    "y = df[target]"
   ]
  },
  {
   "cell_type": "code",
   "execution_count": 140,
   "id": "0559316b",
   "metadata": {},
   "outputs": [],
   "source": [
    "scaler = StandardScaler()\n",
    "X_scaled = scaler.fit_transform(X)"
   ]
  },
  {
   "cell_type": "code",
   "execution_count": 141,
   "id": "6f93f94c",
   "metadata": {},
   "outputs": [
    {
     "name": "stdout",
     "output_type": "stream",
     "text": [
      "\n",
      "Target Variable:\n",
      "0      Presence\n",
      "1       Absence\n",
      "2      Presence\n",
      "3       Absence\n",
      "4       Absence\n",
      "         ...   \n",
      "265     Absence\n",
      "266     Absence\n",
      "267     Absence\n",
      "268     Absence\n",
      "269    Presence\n",
      "Name: Heart Disease, Length: 270, dtype: object\n"
     ]
    }
   ],
   "source": [
    "#print(\"Transformed Features:\")\n",
    "#print(X_scaled)\n",
    "print(\"\\nTarget Variable:\")\n",
    "print(y)"
   ]
  },
  {
   "cell_type": "code",
   "execution_count": 10,
   "id": "a8c45187",
   "metadata": {},
   "outputs": [
    {
     "data": {
      "text/plain": [
       "'C:\\\\Users\\\\broda\\\\Downloads'"
      ]
     },
     "execution_count": 10,
     "metadata": {},
     "output_type": "execute_result"
    }
   ],
   "source": [
    "os.getcwd()"
   ]
  },
  {
   "cell_type": "code",
   "execution_count": 116,
   "id": "2ec72500",
   "metadata": {},
   "outputs": [
    {
     "name": "stdout",
     "output_type": "stream",
     "text": [
      "Current working directory: C:\\Users\\broda\\Downloads\n"
     ]
    }
   ],
   "source": [
    "print(\"Current working directory:\", os.getcwd())"
   ]
  },
  {
   "cell_type": "code",
   "execution_count": 142,
   "id": "04aae218",
   "metadata": {},
   "outputs": [],
   "source": [
    "Health_dataset = pd.read_csv('/users''/broda''/downloads''/Health_Heart.csv')"
   ]
  },
  {
   "cell_type": "code",
   "execution_count": 143,
   "id": "42f78c62",
   "metadata": {},
   "outputs": [
    {
     "name": "stdout",
     "output_type": "stream",
     "text": [
      "     Age  Gender  Chest pain type  Blood Pressure(mmHg)  Cholesterol  \\\n",
      "0     70       1                4                   130          322   \n",
      "1     67       0                3                   115          564   \n",
      "2     57       1                2                   124          261   \n",
      "3     64       1                4                   128          263   \n",
      "4     74       0                2                   120          269   \n",
      "..   ...     ...              ...                   ...          ...   \n",
      "265   52       1                3                   172          199   \n",
      "266   44       1                2                   120          263   \n",
      "267   56       0                2                   140          294   \n",
      "268   57       1                4                   140          192   \n",
      "269   67       1                4                   160          286   \n",
      "\n",
      "     FBS over 120  EKG results  Max HR  Exercise angina  ST depression  \\\n",
      "0               0            2     109                0            2.4   \n",
      "1               0            2     160                0            1.6   \n",
      "2               0            0     141                0            0.3   \n",
      "3               0            0     105                1            0.2   \n",
      "4               0            2     121                1            0.2   \n",
      "..            ...          ...     ...              ...            ...   \n",
      "265             1            0     162                0            0.5   \n",
      "266             0            0     173                0            0.0   \n",
      "267             0            2     153                0            1.3   \n",
      "268             0            0     148                0            0.4   \n",
      "269             0            2     108                1            1.5   \n",
      "\n",
      "     Slope of ST  Number of vessels fluro  Thallium Heart Disease  \\\n",
      "0              2                        3         3      Presence   \n",
      "1              2                        0         7       Absence   \n",
      "2              1                        0         7      Presence   \n",
      "3              2                        1         7       Absence   \n",
      "4              1                        1         3       Absence   \n",
      "..           ...                      ...       ...           ...   \n",
      "265            1                        0         7       Absence   \n",
      "266            1                        0         7       Absence   \n",
      "267            2                        0         3       Absence   \n",
      "268            2                        0         6       Absence   \n",
      "269            2                        3         3      Presence   \n",
      "\n",
      "     Heart Attack  \n",
      "0               1  \n",
      "1               0  \n",
      "2               1  \n",
      "3               0  \n",
      "4               0  \n",
      "..            ...  \n",
      "265             0  \n",
      "266             0  \n",
      "267             0  \n",
      "268             0  \n",
      "269             1  \n",
      "\n",
      "[270 rows x 15 columns]\n"
     ]
    }
   ],
   "source": [
    "print(Health_dataset)"
   ]
  },
  {
   "cell_type": "code",
   "execution_count": 144,
   "id": "8c219abc",
   "metadata": {},
   "outputs": [
    {
     "data": {
      "text/html": [
       "<div>\n",
       "<style scoped>\n",
       "    .dataframe tbody tr th:only-of-type {\n",
       "        vertical-align: middle;\n",
       "    }\n",
       "\n",
       "    .dataframe tbody tr th {\n",
       "        vertical-align: top;\n",
       "    }\n",
       "\n",
       "    .dataframe thead th {\n",
       "        text-align: right;\n",
       "    }\n",
       "</style>\n",
       "<table border=\"1\" class=\"dataframe\">\n",
       "  <thead>\n",
       "    <tr style=\"text-align: right;\">\n",
       "      <th></th>\n",
       "      <th>Age</th>\n",
       "      <th>Gender</th>\n",
       "      <th>Chest pain type</th>\n",
       "      <th>Blood Pressure(mmHg)</th>\n",
       "      <th>Cholesterol</th>\n",
       "      <th>FBS over 120</th>\n",
       "      <th>EKG results</th>\n",
       "      <th>Max HR</th>\n",
       "      <th>Exercise angina</th>\n",
       "      <th>ST depression</th>\n",
       "      <th>Slope of ST</th>\n",
       "      <th>Number of vessels fluro</th>\n",
       "      <th>Thallium</th>\n",
       "      <th>Heart Disease</th>\n",
       "      <th>Heart Attack</th>\n",
       "    </tr>\n",
       "  </thead>\n",
       "  <tbody>\n",
       "    <tr>\n",
       "      <th>0</th>\n",
       "      <td>70</td>\n",
       "      <td>1</td>\n",
       "      <td>4</td>\n",
       "      <td>130</td>\n",
       "      <td>322</td>\n",
       "      <td>0</td>\n",
       "      <td>2</td>\n",
       "      <td>109</td>\n",
       "      <td>0</td>\n",
       "      <td>2.4</td>\n",
       "      <td>2</td>\n",
       "      <td>3</td>\n",
       "      <td>3</td>\n",
       "      <td>Presence</td>\n",
       "      <td>1</td>\n",
       "    </tr>\n",
       "    <tr>\n",
       "      <th>1</th>\n",
       "      <td>67</td>\n",
       "      <td>0</td>\n",
       "      <td>3</td>\n",
       "      <td>115</td>\n",
       "      <td>564</td>\n",
       "      <td>0</td>\n",
       "      <td>2</td>\n",
       "      <td>160</td>\n",
       "      <td>0</td>\n",
       "      <td>1.6</td>\n",
       "      <td>2</td>\n",
       "      <td>0</td>\n",
       "      <td>7</td>\n",
       "      <td>Absence</td>\n",
       "      <td>0</td>\n",
       "    </tr>\n",
       "    <tr>\n",
       "      <th>2</th>\n",
       "      <td>57</td>\n",
       "      <td>1</td>\n",
       "      <td>2</td>\n",
       "      <td>124</td>\n",
       "      <td>261</td>\n",
       "      <td>0</td>\n",
       "      <td>0</td>\n",
       "      <td>141</td>\n",
       "      <td>0</td>\n",
       "      <td>0.3</td>\n",
       "      <td>1</td>\n",
       "      <td>0</td>\n",
       "      <td>7</td>\n",
       "      <td>Presence</td>\n",
       "      <td>1</td>\n",
       "    </tr>\n",
       "    <tr>\n",
       "      <th>3</th>\n",
       "      <td>64</td>\n",
       "      <td>1</td>\n",
       "      <td>4</td>\n",
       "      <td>128</td>\n",
       "      <td>263</td>\n",
       "      <td>0</td>\n",
       "      <td>0</td>\n",
       "      <td>105</td>\n",
       "      <td>1</td>\n",
       "      <td>0.2</td>\n",
       "      <td>2</td>\n",
       "      <td>1</td>\n",
       "      <td>7</td>\n",
       "      <td>Absence</td>\n",
       "      <td>0</td>\n",
       "    </tr>\n",
       "    <tr>\n",
       "      <th>4</th>\n",
       "      <td>74</td>\n",
       "      <td>0</td>\n",
       "      <td>2</td>\n",
       "      <td>120</td>\n",
       "      <td>269</td>\n",
       "      <td>0</td>\n",
       "      <td>2</td>\n",
       "      <td>121</td>\n",
       "      <td>1</td>\n",
       "      <td>0.2</td>\n",
       "      <td>1</td>\n",
       "      <td>1</td>\n",
       "      <td>3</td>\n",
       "      <td>Absence</td>\n",
       "      <td>0</td>\n",
       "    </tr>\n",
       "  </tbody>\n",
       "</table>\n",
       "</div>"
      ],
      "text/plain": [
       "   Age  Gender  Chest pain type  Blood Pressure(mmHg)  Cholesterol  \\\n",
       "0   70       1                4                   130          322   \n",
       "1   67       0                3                   115          564   \n",
       "2   57       1                2                   124          261   \n",
       "3   64       1                4                   128          263   \n",
       "4   74       0                2                   120          269   \n",
       "\n",
       "   FBS over 120  EKG results  Max HR  Exercise angina  ST depression  \\\n",
       "0             0            2     109                0            2.4   \n",
       "1             0            2     160                0            1.6   \n",
       "2             0            0     141                0            0.3   \n",
       "3             0            0     105                1            0.2   \n",
       "4             0            2     121                1            0.2   \n",
       "\n",
       "   Slope of ST  Number of vessels fluro  Thallium Heart Disease  Heart Attack  \n",
       "0            2                        3         3      Presence             1  \n",
       "1            2                        0         7       Absence             0  \n",
       "2            1                        0         7      Presence             1  \n",
       "3            2                        1         7       Absence             0  \n",
       "4            1                        1         3       Absence             0  "
      ]
     },
     "execution_count": 144,
     "metadata": {},
     "output_type": "execute_result"
    }
   ],
   "source": [
    "Health_dataset.head(5)"
   ]
  },
  {
   "cell_type": "code",
   "execution_count": 145,
   "id": "9a2618cb",
   "metadata": {},
   "outputs": [
    {
     "name": "stdout",
     "output_type": "stream",
     "text": [
      "<class 'pandas.core.frame.DataFrame'>\n",
      "RangeIndex: 270 entries, 0 to 269\n",
      "Data columns (total 15 columns):\n",
      " #   Column                   Non-Null Count  Dtype  \n",
      "---  ------                   --------------  -----  \n",
      " 0   Age                      270 non-null    int64  \n",
      " 1   Gender                   270 non-null    int64  \n",
      " 2   Chest pain type          270 non-null    int64  \n",
      " 3   Blood Pressure(mmHg)     270 non-null    int64  \n",
      " 4   Cholesterol              270 non-null    int64  \n",
      " 5   FBS over 120             270 non-null    int64  \n",
      " 6   EKG results              270 non-null    int64  \n",
      " 7   Max HR                   270 non-null    int64  \n",
      " 8   Exercise angina          270 non-null    int64  \n",
      " 9   ST depression            270 non-null    float64\n",
      " 10  Slope of ST              270 non-null    int64  \n",
      " 11  Number of vessels fluro  270 non-null    int64  \n",
      " 12  Thallium                 270 non-null    int64  \n",
      " 13  Heart Disease            270 non-null    object \n",
      " 14  Heart Attack             270 non-null    int64  \n",
      "dtypes: float64(1), int64(13), object(1)\n",
      "memory usage: 31.8+ KB\n",
      "None\n"
     ]
    }
   ],
   "source": [
    "print(Health_dataset.info())"
   ]
  },
  {
   "cell_type": "code",
   "execution_count": 146,
   "id": "490e8a52",
   "metadata": {},
   "outputs": [
    {
     "name": "stdout",
     "output_type": "stream",
     "text": [
      "Index(['Age', 'Gender', 'Chest pain type', 'Blood Pressure(mmHg)',\n",
      "       'Cholesterol', 'FBS over 120', 'EKG results', 'Max HR',\n",
      "       'Exercise angina', 'ST depression', 'Slope of ST',\n",
      "       'Number of vessels fluro', 'Thallium', 'Heart Disease', 'Heart Attack'],\n",
      "      dtype='object')\n"
     ]
    }
   ],
   "source": [
    "print(Health_dataset.columns)"
   ]
  },
  {
   "cell_type": "code",
   "execution_count": 147,
   "id": "db106c6a",
   "metadata": {},
   "outputs": [],
   "source": [
    "def check_missing_values(dframe, columnlists):\n",
    "    for col in columnlists:\n",
    "        print(f' NAN in {col} : {dframe[col].isna().any()} ')"
   ]
  },
  {
   "cell_type": "code",
   "execution_count": 148,
   "id": "ae9ca056",
   "metadata": {},
   "outputs": [
    {
     "name": "stdout",
     "output_type": "stream",
     "text": [
      " NAN in Age : False \n",
      " NAN in Gender : False \n",
      " NAN in Chest pain type : False \n",
      " NAN in Blood Pressure(mmHg) : False \n",
      " NAN in Cholesterol : False \n",
      " NAN in FBS over 120 : False \n",
      " NAN in EKG results : False \n",
      " NAN in Max HR : False \n",
      " NAN in Exercise angina : False \n",
      " NAN in ST depression : False \n",
      " NAN in Slope of ST : False \n",
      " NAN in Number of vessels fluro : False \n",
      " NAN in Thallium : False \n",
      " NAN in Heart Disease : False \n",
      " NAN in Heart Attack : False \n"
     ]
    }
   ],
   "source": [
    "check_missing_values(Health_dataset, Health_dataset.columns)"
   ]
  },
  {
   "cell_type": "code",
   "execution_count": 149,
   "id": "8e93c51f",
   "metadata": {},
   "outputs": [
    {
     "data": {
      "text/plain": [
       "(270, 15)"
      ]
     },
     "execution_count": 149,
     "metadata": {},
     "output_type": "execute_result"
    }
   ],
   "source": [
    "Health_dataset.shape"
   ]
  },
  {
   "cell_type": "code",
   "execution_count": 150,
   "id": "46b6c9ce",
   "metadata": {},
   "outputs": [
    {
     "data": {
      "text/plain": [
       "int64      13\n",
       "float64     1\n",
       "object      1\n",
       "dtype: int64"
      ]
     },
     "execution_count": 150,
     "metadata": {},
     "output_type": "execute_result"
    }
   ],
   "source": [
    "pd.value_counts(Health_dataset.dtypes)"
   ]
  },
  {
   "cell_type": "code",
   "execution_count": 129,
   "id": "7382fd93",
   "metadata": {},
   "outputs": [],
   "source": [
    "#Health_dataset.select_dtypes(exclude=\"number\").head()"
   ]
  },
  {
   "cell_type": "code",
   "execution_count": 130,
   "id": "c7afd174",
   "metadata": {},
   "outputs": [],
   "source": [
    "#Health_dataset.describe(exclude=\"number\")"
   ]
  },
  {
   "cell_type": "code",
   "execution_count": 131,
   "id": "9cdb9031",
   "metadata": {},
   "outputs": [],
   "source": [
    "# Assuming Health_dataset is your pandas DataFrame\n",
    "#numeric_columns = Health_dataset.select_dtypes(include=\"number\")"
   ]
  },
  {
   "cell_type": "code",
   "execution_count": 132,
   "id": "e503e708",
   "metadata": {},
   "outputs": [],
   "source": [
    "#numeric_columns.head()"
   ]
  },
  {
   "cell_type": "code",
   "execution_count": 151,
   "id": "a1b44048",
   "metadata": {},
   "outputs": [
    {
     "data": {
      "text/plain": [
       "(270, 15)"
      ]
     },
     "execution_count": 151,
     "metadata": {},
     "output_type": "execute_result"
    }
   ],
   "source": [
    "Health_dataset.shape"
   ]
  },
  {
   "cell_type": "code",
   "execution_count": 152,
   "id": "ea7c22d9",
   "metadata": {},
   "outputs": [
    {
     "name": "stdout",
     "output_type": "stream",
     "text": [
      "              Age      Gender  Chest pain type  Blood Pressure(mmHg)  \\\n",
      "count  270.000000  270.000000       270.000000            270.000000   \n",
      "mean    54.433333    0.677778         3.174074            131.344444   \n",
      "std      9.109067    0.468195         0.950090             17.861608   \n",
      "min     29.000000    0.000000         1.000000             94.000000   \n",
      "25%     48.000000    0.000000         3.000000            120.000000   \n",
      "50%     55.000000    1.000000         3.000000            130.000000   \n",
      "75%     61.000000    1.000000         4.000000            140.000000   \n",
      "max     77.000000    1.000000         4.000000            200.000000   \n",
      "\n",
      "       Cholesterol  FBS over 120  EKG results      Max HR  Exercise angina  \\\n",
      "count   270.000000    270.000000   270.000000  270.000000       270.000000   \n",
      "mean    249.659259      0.148148     1.022222  149.677778         0.329630   \n",
      "std      51.686237      0.355906     0.997891   23.165717         0.470952   \n",
      "min     126.000000      0.000000     0.000000   71.000000         0.000000   \n",
      "25%     213.000000      0.000000     0.000000  133.000000         0.000000   \n",
      "50%     245.000000      0.000000     2.000000  153.500000         0.000000   \n",
      "75%     280.000000      0.000000     2.000000  166.000000         1.000000   \n",
      "max     564.000000      1.000000     2.000000  202.000000         1.000000   \n",
      "\n",
      "       ST depression  Slope of ST  Number of vessels fluro    Thallium  \\\n",
      "count      270.00000   270.000000               270.000000  270.000000   \n",
      "mean         1.05000     1.585185                 0.670370    4.696296   \n",
      "std          1.14521     0.614390                 0.943896    1.940659   \n",
      "min          0.00000     1.000000                 0.000000    3.000000   \n",
      "25%          0.00000     1.000000                 0.000000    3.000000   \n",
      "50%          0.80000     2.000000                 0.000000    3.000000   \n",
      "75%          1.60000     2.000000                 1.000000    7.000000   \n",
      "max          6.20000     3.000000                 3.000000    7.000000   \n",
      "\n",
      "       Heart Attack  \n",
      "count    270.000000  \n",
      "mean       0.444444  \n",
      "std        0.497827  \n",
      "min        0.000000  \n",
      "25%        0.000000  \n",
      "50%        0.000000  \n",
      "75%        1.000000  \n",
      "max        1.000000  \n"
     ]
    }
   ],
   "source": [
    "print(Health_dataset.describe())"
   ]
  },
  {
   "cell_type": "code",
   "execution_count": 267,
   "id": "d306a63b",
   "metadata": {},
   "outputs": [
    {
     "data": {
      "image/png": "[encoded data removed]",
      "text/plain": [
       "<Figure size 1200x800 with 16 Axes>"
      ]
     },
     "metadata": {},
     "output_type": "display_data"
    },
    {
     "data": {
      "text/plain": [
       "<Figure size 640x480 with 0 Axes>"
      ]
     },
     "metadata": {},
     "output_type": "display_data"
    }
   ],
   "source": [
    "Health_dataset.hist(figsize=(12, 8))\n",
    "plt.tight_layout()\n",
    "plt.show()\n",
    "plt.savefig('data_layout fig1.png')"
   ]
  },
  {
   "cell_type": "code",
   "execution_count": 191,
   "id": "f4e94473",
   "metadata": {},
   "outputs": [],
   "source": [
    "#plt.figure(figsize=(10, 8))\n",
    "#sns.boxplot(data=Health_dataset, x=\"Gender\", y=\"Heart Attack\",)\n",
    "#plt.savefig('gender_chart.png')"
   ]
  },
  {
   "cell_type": "code",
   "execution_count": 190,
   "id": "23a49f8f",
   "metadata": {},
   "outputs": [],
   "source": [
    "#Health_dataset['Gender'] = Health_dataset['Gender'].map({0: 'Female', 1: 'Male'})\n",
    "\n",
    "#plt.figure(figsize=(10, 8))\n",
    "#sns.boxplot(data=Health_dataset, x=\"Gender\", y=\"Heart Attack\")\n",
    "#plt.title('Distribution of Heart Attacks by Gender')\n",
    "\n",
    "#plt.xlabel('Gender')\n",
    "#plt.ylabel('Heart Attack')\n",
    "#plt.show()"
   ]
  },
  {
   "cell_type": "code",
   "execution_count": 187,
   "id": "5902501e",
   "metadata": {},
   "outputs": [
    {
     "name": "stdout",
     "output_type": "stream",
     "text": [
      "Male      183\n",
      "Female     87\n",
      "Name: Gender, dtype: int64\n"
     ]
    }
   ],
   "source": [
    "gender_counts = Health_dataset['Gender'].value_counts()\n",
    "\n",
    "print(gender_counts)"
   ]
  },
  {
   "cell_type": "code",
   "execution_count": 266,
   "id": "da3519bf",
   "metadata": {},
   "outputs": [
    {
     "data": {
      "image/png": "[encoded data removed]",
      "text/plain": [
       "<Figure size 640x480 with 1 Axes>"
      ]
     },
     "metadata": {},
     "output_type": "display_data"
    }
   ],
   "source": [
    "plt.subplot(1, 2, 2)\n",
    "sns.countplot(data=Health_dataset, x='Gender', hue='Heart Attack')\n",
    "plt.title('Distribution of Heart Attacks by Gender')\n",
    "plt.xlabel('Gender (0: Female, 1: Male)')\n",
    "plt.ylabel('Count')\n",
    "plt.savefig('heart_vs_gender fig2')"
   ]
  },
  {
   "cell_type": "code",
   "execution_count": 192,
   "id": "11f46436",
   "metadata": {},
   "outputs": [],
   "source": [
    "#sns.countplot(x='Gender', data=Health_dataset)\n",
    "#plt.show()"
   ]
  },
  {
   "cell_type": "code",
   "execution_count": 160,
   "id": "b9e38a97",
   "metadata": {},
   "outputs": [
    {
     "name": "stdout",
     "output_type": "stream",
     "text": [
      "Heart Attack               1.000000\n",
      "Thallium                   0.525020\n",
      "Number of vessels fluro    0.455336\n",
      "Exercise angina            0.419303\n",
      "ST depression              0.417967\n",
      "Chest pain type            0.417436\n",
      "Slope of ST                0.337616\n",
      "Gender                     0.297721\n",
      "Age                        0.212322\n",
      "EKG results                0.182091\n",
      "Blood Pressure(mmHg)       0.155383\n",
      "Cholesterol                0.118021\n",
      "FBS over 120              -0.016319\n",
      "Max HR                    -0.418514\n",
      "Name: Heart Attack, dtype: float64\n"
     ]
    },
    {
     "name": "stderr",
     "output_type": "stream",
     "text": [
      "C:\\Users\\broda\\AppData\\Local\\Temp\\ipykernel_26324\\1375681080.py:1: FutureWarning: The default value of numeric_only in DataFrame.corr is deprecated. In a future version, it will default to False. Select only valid columns or specify the value of numeric_only to silence this warning.\n",
      "  correlation_with_target = Health_dataset.corr()['Heart Attack'].sort_values(ascending=False)\n"
     ]
    }
   ],
   "source": [
    "correlation_with_target = Health_dataset.corr()['Heart Attack'].sort_values(ascending=False)\n",
    "print(correlation_with_target)"
   ]
  },
  {
   "cell_type": "code",
   "execution_count": 270,
   "id": "0dc0f9d1",
   "metadata": {},
   "outputs": [
    {
     "data": {
      "text/plain": [
       "Text(0, 0.5, 'Count')"
      ]
     },
     "execution_count": 270,
     "metadata": {},
     "output_type": "execute_result"
    },
    {
     "data": {
      "image/png": "[encoded data removed]",
      "text/plain": [
       "<Figure size 640x480 with 1 Axes>"
      ]
     },
     "metadata": {},
     "output_type": "display_data"
    }
   ],
   "source": [
    "plt.subplot(1, 2, 2)\n",
    "sns.countplot(data=Health_dataset, x='Chest pain type', hue='Heart Attack')\n",
    "plt.title('Distribution of chest pain type effect on heart attack')\n",
    "plt.ylabel('Count')"
   ]
  },
  {
   "cell_type": "code",
   "execution_count": 229,
   "id": "4e151456",
   "metadata": {},
   "outputs": [
    {
     "data": {
      "image/png": "[encoded data removed]",
      "text/plain": [
       "<Figure size 1000x800 with 1 Axes>"
      ]
     },
     "metadata": {},
     "output_type": "display_data"
    },
    {
     "data": {
      "text/plain": [
       "<Figure size 640x480 with 0 Axes>"
      ]
     },
     "metadata": {},
     "output_type": "display_data"
    }
   ],
   "source": [
    "plt.figure(figsize=(10, 8))\n",
    "sns.boxplot(x='Heart Attack', y='Age', data=Health_dataset)\n",
    "plt.title('Age vs. Heart Attack')\n",
    "plt.show()\n",
    "plt.savefig('age_heartattack fig3')"
   ]
  },
  {
   "cell_type": "code",
   "execution_count": 230,
   "id": "28abdebf",
   "metadata": {},
   "outputs": [
    {
     "data": {
      "image/png": "[encoded data removed]",
      "text/plain": [
       "<Figure size 700x500 with 1 Axes>"
      ]
     },
     "metadata": {},
     "output_type": "display_data"
    },
    {
     "data": {
      "text/plain": [
       "<Figure size 640x480 with 0 Axes>"
      ]
     },
     "metadata": {},
     "output_type": "display_data"
    }
   ],
   "source": [
    "sns.set_style(\"whitegrid\")\n",
    "sns.set_context(\"talk\")\n",
    "\n",
    "# Set the figure size\n",
    "plt.figure(figsize=(7, 5))\n",
    "\n",
    "# Plot boxplot\n",
    "sns.boxplot(x='Heart Attack', y='Cholesterol', data=Health_dataset, palette=[\"lightcoral\", \"lightgreen\"])\n",
    "\n",
    "plt.title('Influence of Cholesterol on Heart Attack')\n",
    "plt.xlabel('Heart Attack (0: No, 1: Yes)')\n",
    "plt.ylabel('Cholesterol Level')\n",
    "\n",
    "plt.show()\n",
    "plt.savefig('chol_heart fig4')"
   ]
  },
  {
   "cell_type": "code",
   "execution_count": 203,
   "id": "1ff54b0b",
   "metadata": {},
   "outputs": [],
   "source": [
    "#sns.countplot(x='Gender', hue='Heart Attack', data=Health_dataset)\n",
    "#plt.title('Gender vs. Heart Attack')\n",
    "#plt.show()"
   ]
  },
  {
   "cell_type": "code",
   "execution_count": 165,
   "id": "e9ff9a68",
   "metadata": {},
   "outputs": [],
   "source": [
    "#sns.countplot(x='Smoker', hue='Heart Attack', data=Health_dataset)\n",
    "#plt.title('Smoker vs. Heart Attack')\n",
    "#plt.show()"
   ]
  },
  {
   "cell_type": "code",
   "execution_count": 222,
   "id": "098ef575",
   "metadata": {},
   "outputs": [],
   "source": [
    "#sns.countplot(x='Exercise angina', hue='Heart Attack', data=Health_dataset)\n",
    "#plt.title('Heart Attack vs Exercise')\n",
    "#plt.show()"
   ]
  },
  {
   "cell_type": "code",
   "execution_count": 216,
   "id": "cb93a12e",
   "metadata": {},
   "outputs": [
    {
     "name": "stdout",
     "output_type": "stream",
     "text": [
      "0    181\n",
      "1     89\n",
      "Name: Exercise angina, dtype: int64\n"
     ]
    }
   ],
   "source": [
    "exercise_counts = Health_dataset['Exercise angina'].value_counts()\n",
    "\n",
    "print(exercise_counts)"
   ]
  },
  {
   "cell_type": "code",
   "execution_count": 231,
   "id": "cf13d5e4",
   "metadata": {},
   "outputs": [
    {
     "data": {
      "image/png": "[encoded data removed]",
      "text/plain": [
       "<Figure size 500x500 with 1 Axes>"
      ]
     },
     "metadata": {},
     "output_type": "display_data"
    },
    {
     "data": {
      "text/plain": [
       "<Figure size 640x480 with 0 Axes>"
      ]
     },
     "metadata": {},
     "output_type": "display_data"
    }
   ],
   "source": [
    "sns.lmplot(x='Cholesterol', y='Heart Attack',data=Health_dataset) #hue='Heart Attack', )\n",
    "plt.title('Heart Attack vs Cholesterol')\n",
    "plt.show()\n",
    "plt.savefig('chol_heart fig5')"
   ]
  },
  {
   "cell_type": "code",
   "execution_count": 233,
   "id": "d73b4131",
   "metadata": {},
   "outputs": [
    {
     "data": {
      "image/png": "[encoded data removed]",
      "text/plain": [
       "<Figure size 640x480 with 1 Axes>"
      ]
     },
     "metadata": {},
     "output_type": "display_data"
    },
    {
     "data": {
      "text/plain": [
       "<Figure size 640x480 with 0 Axes>"
      ]
     },
     "metadata": {},
     "output_type": "display_data"
    }
   ],
   "source": [
    "sns.countplot(x='FBS over 120', hue='Heart Attack', data=Health_dataset)\n",
    "plt.title('Heart Attack vs Sugar')\n",
    "plt.show()\n",
    "plt.savefig('sugarvsheart fig6')"
   ]
  },
  {
   "cell_type": "code",
   "execution_count": 215,
   "id": "b5b2083a",
   "metadata": {},
   "outputs": [
    {
     "data": {
      "image/png": "[encoded data removed]",
      "text/plain": [
       "<Figure size 500x500 with 1 Axes>"
      ]
     },
     "metadata": {},
     "output_type": "display_data"
    }
   ],
   "source": [
    "sns.lmplot(x='Heart Attack', y='Blood Pressure(mmHg)', data=Health_dataset)\n",
    "plt.title('Heart Attack vs blood Pressure')\n",
    "plt.show()"
   ]
  },
  {
   "cell_type": "code",
   "execution_count": 37,
   "id": "aff947f3",
   "metadata": {},
   "outputs": [
    {
     "data": {
      "image/png": "[encoded data removed]",
      "text/plain": [
       "<Figure size 1000x800 with 2 Axes>"
      ]
     },
     "metadata": {},
     "output_type": "display_data"
    }
   ],
   "source": [
    "#heatmap_data = Health_dataset.pivot_table(index='Heart Attack', columns='Blood Pressure(mmHg)', aggfunc='size', fill_value=0)\n",
    "\n",
    "#plt.figure(figsize=(10, 8))\n",
    "#sns.heatmap(heatmap_data, cmap='viridis', annot=True, fmt='d')  # annot=True to display the counts, fmt='d' to format as integers\n",
    "#plt.title('Blood pressure Counts vs. Heart Attack')\n",
    "#plt.xlabel('Blood Pressure(mmHg)')\n",
    "#plt.ylabel('Heart Attack')\n",
    "#plt.show()"
   ]
  },
  {
   "cell_type": "code",
   "execution_count": 207,
   "id": "c5b17d41",
   "metadata": {},
   "outputs": [],
   "source": [
    "#plt.figure(figsize=(10, 8))\n",
    "#sns.scatterplot(x='Gender', y='Cholesterol(mg/dL)', data=Health_dataset)\n",
    "#plt.title('Cholesterol vs. Gender')\n",
    "#plt.show()"
   ]
  },
  {
   "cell_type": "code",
   "execution_count": null,
   "id": "9bb2c8a4",
   "metadata": {},
   "outputs": [],
   "source": []
  },
  {
   "cell_type": "code",
   "execution_count": 238,
   "id": "4a989aab",
   "metadata": {},
   "outputs": [
    {
     "name": "stdout",
     "output_type": "stream",
     "text": [
      "<class 'pandas.core.frame.DataFrame'>\n",
      "RangeIndex: 270 entries, 0 to 269\n",
      "Data columns (total 15 columns):\n",
      " #   Column                   Non-Null Count  Dtype  \n",
      "---  ------                   --------------  -----  \n",
      " 0   Age                      270 non-null    int64  \n",
      " 1   Gender                   270 non-null    int64  \n",
      " 2   Chest pain type          270 non-null    int64  \n",
      " 3   Blood Pressure(mmHg)     270 non-null    int64  \n",
      " 4   Cholesterol              270 non-null    int64  \n",
      " 5   FBS over 120             270 non-null    int64  \n",
      " 6   EKG results              270 non-null    int64  \n",
      " 7   Max HR                   270 non-null    int64  \n",
      " 8   Exercise angina          270 non-null    int64  \n",
      " 9   ST depression            270 non-null    float64\n",
      " 10  Slope of ST              270 non-null    int64  \n",
      " 11  Number of vessels fluro  270 non-null    int64  \n",
      " 12  Thallium                 270 non-null    int64  \n",
      " 13  Heart Disease            270 non-null    object \n",
      " 14  Heart Attack             270 non-null    int64  \n",
      "dtypes: float64(1), int64(13), object(1)\n",
      "memory usage: 31.8+ KB\n",
      "None\n"
     ]
    }
   ],
   "source": [
    "pd_dataset = pd.read_csv('health_Heart.csv')\n",
    "\n",
    "pd_dataset.head(5)\n",
    "\n",
    "\n",
    "\n",
    "print(pd_dataset.info())"
   ]
  },
  {
   "cell_type": "code",
   "execution_count": 42,
   "id": "878ed949",
   "metadata": {},
   "outputs": [
    {
     "name": "stdout",
     "output_type": "stream",
     "text": [
      "Index(['ID', 'Name', 'Age', 'Gender', 'Height(cm)', 'Weight(kg)',\n",
      "       'Blood Pressure(mmHg)', 'Cholesterol(mg/dL)', 'Glucose(mg/dL)',\n",
      "       'Smoker', 'Exercise(hours/week)', 'Heart Attack'],\n",
      "      dtype='object')\n"
     ]
    }
   ],
   "source": [
    "## Descriptive explorative studies.\n",
    "print(pd_dataset.columns)"
   ]
  },
  {
   "cell_type": "code",
   "execution_count": 44,
   "id": "93261461",
   "metadata": {},
   "outputs": [],
   "source": [
    "## preprocessing step 1\n",
    "\n",
    "## check for missing values in selected columns\n",
    "## the check_missing_values function checks for missing values in a dataframe column and returns a boolean output.\n",
    "def check_missing_values(dframe, columnlists):\n",
    "    for col in columnlists:\n",
    "        print(f' NAN in {col} : {dframe[col].isna().any()} ')"
   ]
  },
  {
   "cell_type": "code",
   "execution_count": 45,
   "id": "443e32a9",
   "metadata": {},
   "outputs": [
    {
     "name": "stdout",
     "output_type": "stream",
     "text": [
      " NAN in ID : False \n",
      " NAN in Name : False \n",
      " NAN in Age : False \n",
      " NAN in Gender : False \n",
      " NAN in Height(cm) : False \n",
      " NAN in Weight(kg) : False \n",
      " NAN in Blood Pressure(mmHg) : False \n",
      " NAN in Cholesterol(mg/dL) : False \n",
      " NAN in Glucose(mg/dL) : False \n",
      " NAN in Smoker : False \n",
      " NAN in Exercise(hours/week) : False \n",
      " NAN in Heart Attack : False \n"
     ]
    }
   ],
   "source": [
    "check_missing_values(pd_dataset, pd_dataset.columns)\n",
    "\n",
    "pd_dataset = pd_dataset.drop(['ID', 'Name'], axis=1)"
   ]
  },
  {
   "cell_type": "code",
   "execution_count": 46,
   "id": "d8148807",
   "metadata": {},
   "outputs": [
    {
     "data": {
      "text/plain": [
       "Age                      int64\n",
       "Gender                  object\n",
       "Height(cm)               int64\n",
       "Weight(kg)               int64\n",
       "Blood Pressure(mmHg)    object\n",
       "Cholesterol(mg/dL)       int64\n",
       "Glucose(mg/dL)           int64\n",
       "Smoker                  object\n",
       "Exercise(hours/week)     int64\n",
       "Heart Attack             int64\n",
       "dtype: object"
      ]
     },
     "execution_count": 46,
     "metadata": {},
     "output_type": "execute_result"
    }
   ],
   "source": [
    "pd_dataset.dtypes"
   ]
  },
  {
   "cell_type": "code",
   "execution_count": 47,
   "id": "ad27be23",
   "metadata": {},
   "outputs": [],
   "source": [
    "# Convert all object type to categorical variables\n",
    "cat_variable = ['Gender', 'Smoker']"
   ]
  },
  {
   "cell_type": "code",
   "execution_count": 48,
   "id": "51d8806e",
   "metadata": {},
   "outputs": [],
   "source": [
    "for item in cat_variable:\n",
    "    new_var = 'cat_' + item\n",
    "    pd_dataset[new_var] = pd_dataset[item]\n",
    "    pd_dataset[new_var] = pd_dataset[new_var].astype('category')"
   ]
  },
  {
   "cell_type": "code",
   "execution_count": 49,
   "id": "364fec71",
   "metadata": {},
   "outputs": [],
   "source": [
    "cat_columns = pd_dataset.select_dtypes(['category']).columns\n",
    "cat_columns\n",
    "pd_dataset[cat_columns] = pd_dataset[cat_columns].apply(lambda x: x.cat.codes)"
   ]
  },
  {
   "cell_type": "code",
   "execution_count": 50,
   "id": "4c60aec6",
   "metadata": {},
   "outputs": [],
   "source": [
    "# pd_dataset = pd_dataset.drop(pd_dataset[(pd_dataset['Heart Attack'] == 0) | (pd_dataset['Heart Attack'] == 1)].index)"
   ]
  },
  {
   "cell_type": "code",
   "execution_count": 51,
   "id": "1cee6f5b",
   "metadata": {},
   "outputs": [
    {
     "data": {
      "text/html": [
       "<div>\n",
       "<style scoped>\n",
       "    .dataframe tbody tr th:only-of-type {\n",
       "        vertical-align: middle;\n",
       "    }\n",
       "\n",
       "    .dataframe tbody tr th {\n",
       "        vertical-align: top;\n",
       "    }\n",
       "\n",
       "    .dataframe thead th {\n",
       "        text-align: right;\n",
       "    }\n",
       "</style>\n",
       "<table border=\"1\" class=\"dataframe\">\n",
       "  <thead>\n",
       "    <tr style=\"text-align: right;\">\n",
       "      <th></th>\n",
       "      <th>Age</th>\n",
       "      <th>Gender</th>\n",
       "      <th>Height(cm)</th>\n",
       "      <th>Weight(kg)</th>\n",
       "      <th>Blood Pressure(mmHg)</th>\n",
       "      <th>Cholesterol(mg/dL)</th>\n",
       "      <th>Glucose(mg/dL)</th>\n",
       "      <th>Smoker</th>\n",
       "      <th>Exercise(hours/week)</th>\n",
       "      <th>Heart Attack</th>\n",
       "      <th>cat_Gender</th>\n",
       "      <th>cat_Smoker</th>\n",
       "    </tr>\n",
       "  </thead>\n",
       "  <tbody>\n",
       "    <tr>\n",
       "      <th>0</th>\n",
       "      <td>45</td>\n",
       "      <td>Male</td>\n",
       "      <td>175</td>\n",
       "      <td>80</td>\n",
       "      <td>120/80</td>\n",
       "      <td>200</td>\n",
       "      <td>90</td>\n",
       "      <td>No</td>\n",
       "      <td>3</td>\n",
       "      <td>0</td>\n",
       "      <td>1</td>\n",
       "      <td>0</td>\n",
       "    </tr>\n",
       "    <tr>\n",
       "      <th>1</th>\n",
       "      <td>35</td>\n",
       "      <td>Female</td>\n",
       "      <td>160</td>\n",
       "      <td>65</td>\n",
       "      <td>110/70</td>\n",
       "      <td>180</td>\n",
       "      <td>80</td>\n",
       "      <td>No</td>\n",
       "      <td>2</td>\n",
       "      <td>0</td>\n",
       "      <td>0</td>\n",
       "      <td>0</td>\n",
       "    </tr>\n",
       "    <tr>\n",
       "      <th>2</th>\n",
       "      <td>55</td>\n",
       "      <td>Male</td>\n",
       "      <td>180</td>\n",
       "      <td>85</td>\n",
       "      <td>130/85</td>\n",
       "      <td>220</td>\n",
       "      <td>95</td>\n",
       "      <td>Yes</td>\n",
       "      <td>4</td>\n",
       "      <td>1</td>\n",
       "      <td>1</td>\n",
       "      <td>1</td>\n",
       "    </tr>\n",
       "    <tr>\n",
       "      <th>3</th>\n",
       "      <td>40</td>\n",
       "      <td>Female</td>\n",
       "      <td>165</td>\n",
       "      <td>70</td>\n",
       "      <td>115/75</td>\n",
       "      <td>190</td>\n",
       "      <td>85</td>\n",
       "      <td>No</td>\n",
       "      <td>3</td>\n",
       "      <td>0</td>\n",
       "      <td>0</td>\n",
       "      <td>0</td>\n",
       "    </tr>\n",
       "    <tr>\n",
       "      <th>4</th>\n",
       "      <td>50</td>\n",
       "      <td>Male</td>\n",
       "      <td>170</td>\n",
       "      <td>75</td>\n",
       "      <td>125/80</td>\n",
       "      <td>210</td>\n",
       "      <td>92</td>\n",
       "      <td>Yes</td>\n",
       "      <td>2</td>\n",
       "      <td>1</td>\n",
       "      <td>1</td>\n",
       "      <td>1</td>\n",
       "    </tr>\n",
       "  </tbody>\n",
       "</table>\n",
       "</div>"
      ],
      "text/plain": [
       "   Age  Gender  Height(cm)  Weight(kg) Blood Pressure(mmHg)  \\\n",
       "0   45    Male         175          80               120/80   \n",
       "1   35  Female         160          65               110/70   \n",
       "2   55    Male         180          85               130/85   \n",
       "3   40  Female         165          70               115/75   \n",
       "4   50    Male         170          75               125/80   \n",
       "\n",
       "   Cholesterol(mg/dL)  Glucose(mg/dL) Smoker  Exercise(hours/week)  \\\n",
       "0                 200              90     No                     3   \n",
       "1                 180              80     No                     2   \n",
       "2                 220              95    Yes                     4   \n",
       "3                 190              85     No                     3   \n",
       "4                 210              92    Yes                     2   \n",
       "\n",
       "   Heart Attack  cat_Gender  cat_Smoker  \n",
       "0             0           1           0  \n",
       "1             0           0           0  \n",
       "2             1           1           1  \n",
       "3             0           0           0  \n",
       "4             1           1           1  "
      ]
     },
     "execution_count": 51,
     "metadata": {},
     "output_type": "execute_result"
    }
   ],
   "source": [
    "pd_dataset.head(5)"
   ]
  },
  {
   "cell_type": "code",
   "execution_count": 52,
   "id": "5fb9395a",
   "metadata": {},
   "outputs": [],
   "source": [
    "def divide_bp(ele):\n",
    "    x, y = ele.split('/')\n",
    "    val = int(x)/int(y)\n",
    "    return val"
   ]
  },
  {
   "cell_type": "code",
   "execution_count": 53,
   "id": "444d6431",
   "metadata": {},
   "outputs": [],
   "source": [
    "pd_dataset['bp_float'] = pd_dataset['Blood Pressure(mmHg)'].apply(lambda x: divide_bp(x))"
   ]
  },
  {
   "cell_type": "code",
   "execution_count": 54,
   "id": "41fc5060",
   "metadata": {},
   "outputs": [
    {
     "data": {
      "text/plain": [
       "int64      7\n",
       "object     3\n",
       "int8       2\n",
       "float64    1\n",
       "dtype: int64"
      ]
     },
     "execution_count": 54,
     "metadata": {},
     "output_type": "execute_result"
    }
   ],
   "source": [
    "pd_dataset.shape\n",
    "\n",
    "pd.value_counts(pd_dataset.dtypes)"
   ]
  },
  {
   "cell_type": "code",
   "execution_count": 55,
   "id": "7a0e9a9a",
   "metadata": {},
   "outputs": [
    {
     "data": {
      "text/html": [
       "<div>\n",
       "<style scoped>\n",
       "    .dataframe tbody tr th:only-of-type {\n",
       "        vertical-align: middle;\n",
       "    }\n",
       "\n",
       "    .dataframe tbody tr th {\n",
       "        vertical-align: top;\n",
       "    }\n",
       "\n",
       "    .dataframe thead th {\n",
       "        text-align: right;\n",
       "    }\n",
       "</style>\n",
       "<table border=\"1\" class=\"dataframe\">\n",
       "  <thead>\n",
       "    <tr style=\"text-align: right;\">\n",
       "      <th></th>\n",
       "      <th>Gender</th>\n",
       "      <th>Blood Pressure(mmHg)</th>\n",
       "      <th>Smoker</th>\n",
       "    </tr>\n",
       "  </thead>\n",
       "  <tbody>\n",
       "    <tr>\n",
       "      <th>0</th>\n",
       "      <td>Male</td>\n",
       "      <td>120/80</td>\n",
       "      <td>No</td>\n",
       "    </tr>\n",
       "    <tr>\n",
       "      <th>1</th>\n",
       "      <td>Female</td>\n",
       "      <td>110/70</td>\n",
       "      <td>No</td>\n",
       "    </tr>\n",
       "    <tr>\n",
       "      <th>2</th>\n",
       "      <td>Male</td>\n",
       "      <td>130/85</td>\n",
       "      <td>Yes</td>\n",
       "    </tr>\n",
       "    <tr>\n",
       "      <th>3</th>\n",
       "      <td>Female</td>\n",
       "      <td>115/75</td>\n",
       "      <td>No</td>\n",
       "    </tr>\n",
       "    <tr>\n",
       "      <th>4</th>\n",
       "      <td>Male</td>\n",
       "      <td>125/80</td>\n",
       "      <td>Yes</td>\n",
       "    </tr>\n",
       "  </tbody>\n",
       "</table>\n",
       "</div>"
      ],
      "text/plain": [
       "   Gender Blood Pressure(mmHg) Smoker\n",
       "0    Male               120/80     No\n",
       "1  Female               110/70     No\n",
       "2    Male               130/85    Yes\n",
       "3  Female               115/75     No\n",
       "4    Male               125/80    Yes"
      ]
     },
     "execution_count": 55,
     "metadata": {},
     "output_type": "execute_result"
    }
   ],
   "source": [
    "pd_dataset.select_dtypes(exclude=\"number\").head()"
   ]
  },
  {
   "cell_type": "code",
   "execution_count": 56,
   "id": "895c9275",
   "metadata": {},
   "outputs": [
    {
     "data": {
      "text/html": [
       "<div>\n",
       "<style scoped>\n",
       "    .dataframe tbody tr th:only-of-type {\n",
       "        vertical-align: middle;\n",
       "    }\n",
       "\n",
       "    .dataframe tbody tr th {\n",
       "        vertical-align: top;\n",
       "    }\n",
       "\n",
       "    .dataframe thead th {\n",
       "        text-align: right;\n",
       "    }\n",
       "</style>\n",
       "<table border=\"1\" class=\"dataframe\">\n",
       "  <thead>\n",
       "    <tr style=\"text-align: right;\">\n",
       "      <th></th>\n",
       "      <th>Gender</th>\n",
       "      <th>Blood Pressure(mmHg)</th>\n",
       "      <th>Smoker</th>\n",
       "    </tr>\n",
       "  </thead>\n",
       "  <tbody>\n",
       "    <tr>\n",
       "      <th>count</th>\n",
       "      <td>724</td>\n",
       "      <td>724</td>\n",
       "      <td>724</td>\n",
       "    </tr>\n",
       "    <tr>\n",
       "      <th>unique</th>\n",
       "      <td>2</td>\n",
       "      <td>40</td>\n",
       "      <td>2</td>\n",
       "    </tr>\n",
       "    <tr>\n",
       "      <th>top</th>\n",
       "      <td>Male</td>\n",
       "      <td>125/80</td>\n",
       "      <td>No</td>\n",
       "    </tr>\n",
       "    <tr>\n",
       "      <th>freq</th>\n",
       "      <td>362</td>\n",
       "      <td>86</td>\n",
       "      <td>376</td>\n",
       "    </tr>\n",
       "  </tbody>\n",
       "</table>\n",
       "</div>"
      ],
      "text/plain": [
       "       Gender Blood Pressure(mmHg) Smoker\n",
       "count     724                  724    724\n",
       "unique      2                   40      2\n",
       "top      Male               125/80     No\n",
       "freq      362                   86    376"
      ]
     },
     "execution_count": 56,
     "metadata": {},
     "output_type": "execute_result"
    }
   ],
   "source": [
    "# Description summary for object type.\n",
    "pd_dataset.describe(exclude=\"number\")"
   ]
  },
  {
   "cell_type": "code",
   "execution_count": 236,
   "id": "4e7a42f0",
   "metadata": {},
   "outputs": [],
   "source": [
    "#plt.figure(figsize=(15, 8))\n",
    "#relations = pd_dataset.corr()\n",
    "#sns.heatmap(data=relations, annot=True)"
   ]
  },
  {
   "cell_type": "code",
   "execution_count": 235,
   "id": "341437fa",
   "metadata": {},
   "outputs": [],
   "source": [
    "#sns.displot(pd_dataset, x=\"bp_float\")"
   ]
  },
  {
   "cell_type": "code",
   "execution_count": 59,
   "id": "a7198a0e",
   "metadata": {},
   "outputs": [],
   "source": [
    "# Implementing training and test split\n",
    "from sklearn.model_selection import train_test_split\n",
    "from sklearn import svm"
   ]
  },
  {
   "cell_type": "markdown",
   "id": "110bc59e",
   "metadata": {},
   "source": [
    "#  Use Heart_Health.csv dataset as a model validation dataset."
   ]
  },
  {
   "cell_type": "code",
   "execution_count": 241,
   "id": "91d93eb1",
   "metadata": {},
   "outputs": [],
   "source": [
    "#pd_dataset_old = pd.read_csv('Heart_health.csv')"
   ]
  },
  {
   "cell_type": "code",
   "execution_count": 242,
   "id": "3f119a48",
   "metadata": {},
   "outputs": [
    {
     "data": {
      "text/html": [
       "<div>\n",
       "<style scoped>\n",
       "    .dataframe tbody tr th:only-of-type {\n",
       "        vertical-align: middle;\n",
       "    }\n",
       "\n",
       "    .dataframe tbody tr th {\n",
       "        vertical-align: top;\n",
       "    }\n",
       "\n",
       "    .dataframe thead th {\n",
       "        text-align: right;\n",
       "    }\n",
       "</style>\n",
       "<table border=\"1\" class=\"dataframe\">\n",
       "  <thead>\n",
       "    <tr style=\"text-align: right;\">\n",
       "      <th></th>\n",
       "      <th>ID</th>\n",
       "      <th>Name</th>\n",
       "      <th>Age</th>\n",
       "      <th>Gender</th>\n",
       "      <th>Height(cm)</th>\n",
       "      <th>Weight(kg)</th>\n",
       "      <th>Blood Pressure(mmHg)</th>\n",
       "      <th>Cholesterol(mg/dL)</th>\n",
       "      <th>Glucose(mg/dL)</th>\n",
       "      <th>Smoker</th>\n",
       "      <th>Exercise(hours/week)</th>\n",
       "      <th>Heart Attack</th>\n",
       "    </tr>\n",
       "  </thead>\n",
       "  <tbody>\n",
       "    <tr>\n",
       "      <th>0</th>\n",
       "      <td>1</td>\n",
       "      <td>John Doe</td>\n",
       "      <td>45</td>\n",
       "      <td>Male</td>\n",
       "      <td>175</td>\n",
       "      <td>80</td>\n",
       "      <td>120/80</td>\n",
       "      <td>200</td>\n",
       "      <td>90</td>\n",
       "      <td>No</td>\n",
       "      <td>3</td>\n",
       "      <td>0</td>\n",
       "    </tr>\n",
       "    <tr>\n",
       "      <th>1</th>\n",
       "      <td>2</td>\n",
       "      <td>Jane Smith</td>\n",
       "      <td>35</td>\n",
       "      <td>Female</td>\n",
       "      <td>160</td>\n",
       "      <td>65</td>\n",
       "      <td>110/70</td>\n",
       "      <td>180</td>\n",
       "      <td>80</td>\n",
       "      <td>No</td>\n",
       "      <td>2</td>\n",
       "      <td>0</td>\n",
       "    </tr>\n",
       "    <tr>\n",
       "      <th>2</th>\n",
       "      <td>3</td>\n",
       "      <td>Michael Johnson</td>\n",
       "      <td>55</td>\n",
       "      <td>Male</td>\n",
       "      <td>180</td>\n",
       "      <td>85</td>\n",
       "      <td>130/85</td>\n",
       "      <td>220</td>\n",
       "      <td>95</td>\n",
       "      <td>Yes</td>\n",
       "      <td>4</td>\n",
       "      <td>1</td>\n",
       "    </tr>\n",
       "    <tr>\n",
       "      <th>3</th>\n",
       "      <td>4</td>\n",
       "      <td>Sarah Brown</td>\n",
       "      <td>40</td>\n",
       "      <td>Female</td>\n",
       "      <td>165</td>\n",
       "      <td>70</td>\n",
       "      <td>115/75</td>\n",
       "      <td>190</td>\n",
       "      <td>85</td>\n",
       "      <td>No</td>\n",
       "      <td>3</td>\n",
       "      <td>0</td>\n",
       "    </tr>\n",
       "    <tr>\n",
       "      <th>4</th>\n",
       "      <td>5</td>\n",
       "      <td>David Lee</td>\n",
       "      <td>50</td>\n",
       "      <td>Male</td>\n",
       "      <td>170</td>\n",
       "      <td>75</td>\n",
       "      <td>125/80</td>\n",
       "      <td>210</td>\n",
       "      <td>92</td>\n",
       "      <td>Yes</td>\n",
       "      <td>2</td>\n",
       "      <td>1</td>\n",
       "    </tr>\n",
       "  </tbody>\n",
       "</table>\n",
       "</div>"
      ],
      "text/plain": [
       "   ID             Name  Age  Gender  Height(cm)  Weight(kg)  \\\n",
       "0   1         John Doe   45    Male         175          80   \n",
       "1   2       Jane Smith   35  Female         160          65   \n",
       "2   3  Michael Johnson   55    Male         180          85   \n",
       "3   4      Sarah Brown   40  Female         165          70   \n",
       "4   5        David Lee   50    Male         170          75   \n",
       "\n",
       "  Blood Pressure(mmHg)  Cholesterol(mg/dL)  Glucose(mg/dL) Smoker  \\\n",
       "0               120/80                 200              90     No   \n",
       "1               110/70                 180              80     No   \n",
       "2               130/85                 220              95    Yes   \n",
       "3               115/75                 190              85     No   \n",
       "4               125/80                 210              92    Yes   \n",
       "\n",
       "   Exercise(hours/week)  Heart Attack  \n",
       "0                     3             0  \n",
       "1                     2             0  \n",
       "2                     4             1  \n",
       "3                     3             0  \n",
       "4                     2             1  "
      ]
     },
     "execution_count": 242,
     "metadata": {},
     "output_type": "execute_result"
    }
   ],
   "source": [
    "#pd_dataset_old.head(5)"
   ]
  },
  {
   "cell_type": "code",
   "execution_count": null,
   "id": "df43565e",
   "metadata": {},
   "outputs": [],
   "source": []
  },
  {
   "cell_type": "markdown",
   "id": "e621cdd4",
   "metadata": {},
   "source": [
    "# Implement model training and testing using the Heart_Disease_Prediction.csv dataset."
   ]
  },
  {
   "cell_type": "code",
   "execution_count": 243,
   "id": "5439e801",
   "metadata": {},
   "outputs": [],
   "source": [
    "pd_dataset = pd.read_csv('Heart_Disease_Prediction.csv')"
   ]
  },
  {
   "cell_type": "code",
   "execution_count": 244,
   "id": "9893780c",
   "metadata": {},
   "outputs": [
    {
     "name": "stdout",
     "output_type": "stream",
     "text": [
      "<class 'pandas.core.frame.DataFrame'>\n",
      "RangeIndex: 270 entries, 0 to 269\n",
      "Data columns (total 14 columns):\n",
      " #   Column                   Non-Null Count  Dtype  \n",
      "---  ------                   --------------  -----  \n",
      " 0   Age                      270 non-null    int64  \n",
      " 1   Sex                      270 non-null    int64  \n",
      " 2   Chest pain type          270 non-null    int64  \n",
      " 3   BP                       270 non-null    int64  \n",
      " 4   Cholesterol              270 non-null    int64  \n",
      " 5   FBS over 120             270 non-null    int64  \n",
      " 6   EKG results              270 non-null    int64  \n",
      " 7   Max HR                   270 non-null    int64  \n",
      " 8   Exercise angina          270 non-null    int64  \n",
      " 9   ST depression            270 non-null    float64\n",
      " 10  Slope of ST              270 non-null    int64  \n",
      " 11  Number of vessels fluro  270 non-null    int64  \n",
      " 12  Thallium                 270 non-null    int64  \n",
      " 13  Heart Disease            270 non-null    object \n",
      "dtypes: float64(1), int64(12), object(1)\n",
      "memory usage: 29.7+ KB\n",
      "None\n"
     ]
    }
   ],
   "source": [
    "print(pd_dataset.info())"
   ]
  },
  {
   "cell_type": "code",
   "execution_count": 245,
   "id": "741c41e1",
   "metadata": {},
   "outputs": [],
   "source": [
    "# Convert all object type to categorical variables\n",
    "cat_variable = ['Heart Disease']\n",
    "\n",
    "for item in cat_variable:\n",
    "    new_var = 'cat_' + item\n",
    "    pd_dataset[new_var] = pd_dataset[item]\n",
    "    pd_dataset[new_var] = pd_dataset[new_var].astype('category')"
   ]
  },
  {
   "cell_type": "code",
   "execution_count": 246,
   "id": "ec5310dc",
   "metadata": {},
   "outputs": [],
   "source": [
    "cat_columns = pd_dataset.select_dtypes(['category']).columns\n",
    "cat_columns\n",
    "pd_dataset[cat_columns] = pd_dataset[cat_columns].apply(lambda x: x.cat.codes)"
   ]
  },
  {
   "cell_type": "code",
   "execution_count": 247,
   "id": "5c02ea9f",
   "metadata": {},
   "outputs": [
    {
     "data": {
      "text/plain": [
       "0    150\n",
       "1    120\n",
       "Name: cat_Heart Disease, dtype: int64"
      ]
     },
     "execution_count": 247,
     "metadata": {},
     "output_type": "execute_result"
    }
   ],
   "source": [
    "# Preview label balance\n",
    "pd_dataset['cat_Heart Disease'].value_counts()"
   ]
  },
  {
   "cell_type": "markdown",
   "id": "97b048d3",
   "metadata": {},
   "source": [
    "# Label spread - Target column seems quite balance with a spread ratio of 44.4% : 55.5%"
   ]
  },
  {
   "cell_type": "markdown",
   "id": "ac45dced",
   "metadata": {},
   "source": [
    "# Extracting features and label"
   ]
  },
  {
   "cell_type": "code",
   "execution_count": 248,
   "id": "319e4a9b",
   "metadata": {},
   "outputs": [],
   "source": [
    "# Define exclusion variable object\n",
    "exclusion_var = ['cat_Heart Disease', 'Heart Disease']"
   ]
  },
  {
   "cell_type": "code",
   "execution_count": 249,
   "id": "e0c117a4",
   "metadata": {},
   "outputs": [],
   "source": [
    "X, y = pd_dataset.drop(exclusion_var, axis=1), pd_dataset['cat_Heart Disease']"
   ]
  },
  {
   "cell_type": "code",
   "execution_count": 250,
   "id": "68f43016",
   "metadata": {},
   "outputs": [
    {
     "data": {
      "text/html": [
       "<div>\n",
       "<style scoped>\n",
       "    .dataframe tbody tr th:only-of-type {\n",
       "        vertical-align: middle;\n",
       "    }\n",
       "\n",
       "    .dataframe tbody tr th {\n",
       "        vertical-align: top;\n",
       "    }\n",
       "\n",
       "    .dataframe thead th {\n",
       "        text-align: right;\n",
       "    }\n",
       "</style>\n",
       "<table border=\"1\" class=\"dataframe\">\n",
       "  <thead>\n",
       "    <tr style=\"text-align: right;\">\n",
       "      <th></th>\n",
       "      <th>Age</th>\n",
       "      <th>Sex</th>\n",
       "      <th>Chest pain type</th>\n",
       "      <th>BP</th>\n",
       "      <th>Cholesterol</th>\n",
       "      <th>FBS over 120</th>\n",
       "      <th>EKG results</th>\n",
       "      <th>Max HR</th>\n",
       "      <th>Exercise angina</th>\n",
       "      <th>ST depression</th>\n",
       "      <th>Slope of ST</th>\n",
       "      <th>Number of vessels fluro</th>\n",
       "      <th>Thallium</th>\n",
       "    </tr>\n",
       "  </thead>\n",
       "  <tbody>\n",
       "    <tr>\n",
       "      <th>0</th>\n",
       "      <td>70</td>\n",
       "      <td>1</td>\n",
       "      <td>4</td>\n",
       "      <td>130</td>\n",
       "      <td>322</td>\n",
       "      <td>0</td>\n",
       "      <td>2</td>\n",
       "      <td>109</td>\n",
       "      <td>0</td>\n",
       "      <td>2.4</td>\n",
       "      <td>2</td>\n",
       "      <td>3</td>\n",
       "      <td>3</td>\n",
       "    </tr>\n",
       "    <tr>\n",
       "      <th>1</th>\n",
       "      <td>67</td>\n",
       "      <td>0</td>\n",
       "      <td>3</td>\n",
       "      <td>115</td>\n",
       "      <td>564</td>\n",
       "      <td>0</td>\n",
       "      <td>2</td>\n",
       "      <td>160</td>\n",
       "      <td>0</td>\n",
       "      <td>1.6</td>\n",
       "      <td>2</td>\n",
       "      <td>0</td>\n",
       "      <td>7</td>\n",
       "    </tr>\n",
       "    <tr>\n",
       "      <th>2</th>\n",
       "      <td>57</td>\n",
       "      <td>1</td>\n",
       "      <td>2</td>\n",
       "      <td>124</td>\n",
       "      <td>261</td>\n",
       "      <td>0</td>\n",
       "      <td>0</td>\n",
       "      <td>141</td>\n",
       "      <td>0</td>\n",
       "      <td>0.3</td>\n",
       "      <td>1</td>\n",
       "      <td>0</td>\n",
       "      <td>7</td>\n",
       "    </tr>\n",
       "    <tr>\n",
       "      <th>3</th>\n",
       "      <td>64</td>\n",
       "      <td>1</td>\n",
       "      <td>4</td>\n",
       "      <td>128</td>\n",
       "      <td>263</td>\n",
       "      <td>0</td>\n",
       "      <td>0</td>\n",
       "      <td>105</td>\n",
       "      <td>1</td>\n",
       "      <td>0.2</td>\n",
       "      <td>2</td>\n",
       "      <td>1</td>\n",
       "      <td>7</td>\n",
       "    </tr>\n",
       "    <tr>\n",
       "      <th>4</th>\n",
       "      <td>74</td>\n",
       "      <td>0</td>\n",
       "      <td>2</td>\n",
       "      <td>120</td>\n",
       "      <td>269</td>\n",
       "      <td>0</td>\n",
       "      <td>2</td>\n",
       "      <td>121</td>\n",
       "      <td>1</td>\n",
       "      <td>0.2</td>\n",
       "      <td>1</td>\n",
       "      <td>1</td>\n",
       "      <td>3</td>\n",
       "    </tr>\n",
       "  </tbody>\n",
       "</table>\n",
       "</div>"
      ],
      "text/plain": [
       "   Age  Sex  Chest pain type   BP  Cholesterol  FBS over 120  EKG results  \\\n",
       "0   70    1                4  130          322             0            2   \n",
       "1   67    0                3  115          564             0            2   \n",
       "2   57    1                2  124          261             0            0   \n",
       "3   64    1                4  128          263             0            0   \n",
       "4   74    0                2  120          269             0            2   \n",
       "\n",
       "   Max HR  Exercise angina  ST depression  Slope of ST  \\\n",
       "0     109                0            2.4            2   \n",
       "1     160                0            1.6            2   \n",
       "2     141                0            0.3            1   \n",
       "3     105                1            0.2            2   \n",
       "4     121                1            0.2            1   \n",
       "\n",
       "   Number of vessels fluro  Thallium  \n",
       "0                        3         3  \n",
       "1                        0         7  \n",
       "2                        0         7  \n",
       "3                        1         7  \n",
       "4                        1         3  "
      ]
     },
     "execution_count": 250,
     "metadata": {},
     "output_type": "execute_result"
    }
   ],
   "source": [
    "X.head(5)"
   ]
  },
  {
   "cell_type": "code",
   "execution_count": 251,
   "id": "c917bd1d",
   "metadata": {},
   "outputs": [
    {
     "data": {
      "text/plain": [
       "0    1\n",
       "1    0\n",
       "2    1\n",
       "3    0\n",
       "4    0\n",
       "Name: cat_Heart Disease, dtype: int8"
      ]
     },
     "execution_count": 251,
     "metadata": {},
     "output_type": "execute_result"
    }
   ],
   "source": [
    "y.head(5)"
   ]
  },
  {
   "cell_type": "markdown",
   "id": "2d4fe222",
   "metadata": {},
   "source": [
    "# Implementing training and test split"
   ]
  },
  {
   "cell_type": "code",
   "execution_count": 252,
   "id": "2a7140b2",
   "metadata": {},
   "outputs": [],
   "source": [
    "from sklearn.model_selection import train_test_split\n",
    "\n",
    "# train dataset at 75% of the entire data set\n",
    "X_train, X_test, y_train, y_test = train_test_split(X, y, test_size=0.25, random_state=32)"
   ]
  },
  {
   "cell_type": "code",
   "execution_count": 253,
   "id": "801ced55",
   "metadata": {},
   "outputs": [],
   "source": []
  },
  {
   "cell_type": "markdown",
   "id": "e78d5985",
   "metadata": {},
   "source": [
    "# Featuring engineering, implementing data normalization."
   ]
  },
  {
   "cell_type": "code",
   "execution_count": 254,
   "id": "ce34fbc4",
   "metadata": {},
   "outputs": [],
   "source": [
    "from sklearn.preprocessing import StandardScaler\n",
    "\n",
    "scaler = StandardScaler()\n",
    "\n",
    "# Fit scaler to training data and transform\n",
    "X_train = scaler.fit_transform(X_train)\n",
    "\n",
    "# Fit test data using using scaler fitted on the training data\n",
    "X_test = scaler.transform(X_test)"
   ]
  },
  {
   "cell_type": "markdown",
   "id": "6f555d44",
   "metadata": {},
   "source": [
    "## Modelling Implementation"
   ]
  },
  {
   "cell_type": "markdown",
   "id": "4d37efcc",
   "metadata": {},
   "source": [
    "### Logistics regression"
   ]
  },
  {
   "cell_type": "code",
   "execution_count": 255,
   "id": "3b4ff576",
   "metadata": {},
   "outputs": [
    {
     "data": {
      "text/html": [
       "<style>#sk-container-id-2 {color: black;}#sk-container-id-2 pre{padding: 0;}#sk-container-id-2 div.sk-toggleable {background-color: white;}#sk-container-id-2 label.sk-toggleable__label {cursor: pointer;display: block;width: 100%;margin-bottom: 0;padding: 0.3em;box-sizing: border-box;text-align: center;}#sk-container-id-2 label.sk-toggleable__label-arrow:before {content: \"▸\";float: left;margin-right: 0.25em;color: #696969;}#sk-container-id-2 label.sk-toggleable__label-arrow:hover:before {color: black;}#sk-container-id-2 div.sk-estimator:hover label.sk-toggleable__label-arrow:before {color: black;}#sk-container-id-2 div.sk-toggleable__content {max-height: 0;max-width: 0;overflow: hidden;text-align: left;background-color: #f0f8ff;}#sk-container-id-2 div.sk-toggleable__content pre {margin: 0.2em;color: black;border-radius: 0.25em;background-color: #f0f8ff;}#sk-container-id-2 input.sk-toggleable__control:checked~div.sk-toggleable__content {max-height: 200px;max-width: 100%;overflow: auto;}#sk-container-id-2 input.sk-toggleable__control:checked~label.sk-toggleable__label-arrow:before {content: \"▾\";}#sk-container-id-2 div.sk-estimator input.sk-toggleable__control:checked~label.sk-toggleable__label {background-color: #d4ebff;}#sk-container-id-2 div.sk-label input.sk-toggleable__control:checked~label.sk-toggleable__label {background-color: #d4ebff;}#sk-container-id-2 input.sk-hidden--visually {border: 0;clip: rect(1px 1px 1px 1px);clip: rect(1px, 1px, 1px, 1px);height: 1px;margin: -1px;overflow: hidden;padding: 0;position: absolute;width: 1px;}#sk-container-id-2 div.sk-estimator {font-family: monospace;background-color: #f0f8ff;border: 1px dotted black;border-radius: 0.25em;box-sizing: border-box;margin-bottom: 0.5em;}#sk-container-id-2 div.sk-estimator:hover {background-color: #d4ebff;}#sk-container-id-2 div.sk-parallel-item::after {content: \"\";width: 100%;border-bottom: 1px solid gray;flex-grow: 1;}#sk-container-id-2 div.sk-label:hover label.sk-toggleable__label {background-color: #d4ebff;}#sk-container-id-2 div.sk-serial::before {content: \"\";position: absolute;border-left: 1px solid gray;box-sizing: border-box;top: 0;bottom: 0;left: 50%;z-index: 0;}#sk-container-id-2 div.sk-serial {display: flex;flex-direction: column;align-items: center;background-color: white;padding-right: 0.2em;padding-left: 0.2em;position: relative;}#sk-container-id-2 div.sk-item {position: relative;z-index: 1;}#sk-container-id-2 div.sk-parallel {display: flex;align-items: stretch;justify-content: center;background-color: white;position: relative;}#sk-container-id-2 div.sk-item::before, #sk-container-id-2 div.sk-parallel-item::before {content: \"\";position: absolute;border-left: 1px solid gray;box-sizing: border-box;top: 0;bottom: 0;left: 50%;z-index: -1;}#sk-container-id-2 div.sk-parallel-item {display: flex;flex-direction: column;z-index: 1;position: relative;background-color: white;}#sk-container-id-2 div.sk-parallel-item:first-child::after {align-self: flex-end;width: 50%;}#sk-container-id-2 div.sk-parallel-item:last-child::after {align-self: flex-start;width: 50%;}#sk-container-id-2 div.sk-parallel-item:only-child::after {width: 0;}#sk-container-id-2 div.sk-dashed-wrapped {border: 1px dashed gray;margin: 0 0.4em 0.5em 0.4em;box-sizing: border-box;padding-bottom: 0.4em;background-color: white;}#sk-container-id-2 div.sk-label label {font-family: monospace;font-weight: bold;display: inline-block;line-height: 1.2em;}#sk-container-id-2 div.sk-label-container {text-align: center;}#sk-container-id-2 div.sk-container {/* jupyter's `normalize.less` sets `[hidden] { display: none; }` but bootstrap.min.css set `[hidden] { display: none !important; }` so we also need the `!important` here to be able to override the default hidden behavior on the sphinx rendered scikit-learn.org. See: https://github.com/scikit-learn/scikit-learn/issues/21755 */display: inline-block !important;position: relative;}#sk-container-id-2 div.sk-text-repr-fallback {display: none;}</style><div id=\"sk-container-id-2\" class=\"sk-top-container\"><div class=\"sk-text-repr-fallback\"><pre>LogisticRegression(max_iter=300)</pre><b>In a Jupyter environment, please rerun this cell to show the HTML representation or trust the notebook. <br />On GitHub, the HTML representation is unable to render, please try loading this page with nbviewer.org.</b></div><div class=\"sk-container\" hidden><div class=\"sk-item\"><div class=\"sk-estimator sk-toggleable\"><input class=\"sk-toggleable__control sk-hidden--visually\" id=\"sk-estimator-id-2\" type=\"checkbox\" checked><label for=\"sk-estimator-id-2\" class=\"sk-toggleable__label sk-toggleable__label-arrow\">LogisticRegression</label><div class=\"sk-toggleable__content\"><pre>LogisticRegression(max_iter=300)</pre></div></div></div></div></div>"
      ],
      "text/plain": [
       "LogisticRegression(max_iter=300)"
      ]
     },
     "execution_count": 255,
     "metadata": {},
     "output_type": "execute_result"
    }
   ],
   "source": [
    "from sklearn.linear_model import LogisticRegression\n",
    "from sklearn.metrics import classification_report, confusion_matrix\n",
    "\n",
    "# Implementing simple logistic regression modelling\n",
    "logistic_model = LogisticRegression(max_iter=300)\n",
    "logistic_model.fit(X_train, y_train)"
   ]
  },
  {
   "cell_type": "code",
   "execution_count": null,
   "id": "7d75f457",
   "metadata": {},
   "outputs": [],
   "source": []
  },
  {
   "cell_type": "code",
   "execution_count": 256,
   "id": "0d2ed983",
   "metadata": {},
   "outputs": [],
   "source": [
    "# Implement test data prediction\n",
    "logistic_predict = logistic_model.predict(X_test)"
   ]
  },
  {
   "cell_type": "code",
   "execution_count": 257,
   "id": "1b144937",
   "metadata": {},
   "outputs": [
    {
     "name": "stdout",
     "output_type": "stream",
     "text": [
      "[[28  6]\n",
      " [ 9 25]]\n",
      "              precision    recall  f1-score   support\n",
      "\n",
      "           0       0.76      0.82      0.79        34\n",
      "           1       0.81      0.74      0.77        34\n",
      "\n",
      "    accuracy                           0.78        68\n",
      "   macro avg       0.78      0.78      0.78        68\n",
      "weighted avg       0.78      0.78      0.78        68\n",
      "\n"
     ]
    }
   ],
   "source": [
    "# Run classification report and confusion matrix\n",
    "print(confusion_matrix(y_test, logistic_predict))\n",
    "print(classification_report(y_test, logistic_predict))"
   ]
  },
  {
   "cell_type": "markdown",
   "id": "6f1d61ec",
   "metadata": {},
   "source": [
    "#### Implement Logistic Modelling with regularization and cross-validation"
   ]
  },
  {
   "cell_type": "code",
   "execution_count": 258,
   "id": "557cc71b",
   "metadata": {},
   "outputs": [
    {
     "name": "stdout",
     "output_type": "stream",
     "text": [
      "[[28  6]\n",
      " [ 8 26]]\n",
      "              precision    recall  f1-score   support\n",
      "\n",
      "           0       0.78      0.82      0.80        34\n",
      "           1       0.81      0.76      0.79        34\n",
      "\n",
      "    accuracy                           0.79        68\n",
      "   macro avg       0.80      0.79      0.79        68\n",
      "weighted avg       0.80      0.79      0.79        68\n",
      "\n"
     ]
    }
   ],
   "source": [
    "from sklearn.linear_model import LogisticRegressionCV\n",
    "\n",
    "logreg_l2 = LogisticRegressionCV(Cs=10, cv=6, penalty='l2').fit(X_train, y_train)\n",
    "\n",
    "# Predict values for the testing data\n",
    "l2_predict = logreg_l2.predict(X_test)\n",
    "\n",
    "# Evaluate the model\n",
    "print(confusion_matrix(y_test, l2_predict))\n",
    "print(classification_report(y_test, l2_predict))"
   ]
  },
  {
   "cell_type": "markdown",
   "id": "24507e48",
   "metadata": {},
   "source": [
    "##### Validate result consistency with a KNN Model"
   ]
  },
  {
   "cell_type": "code",
   "execution_count": 259,
   "id": "3a5ea4eb",
   "metadata": {},
   "outputs": [
    {
     "name": "stdout",
     "output_type": "stream",
     "text": [
      "[[30  4]\n",
      " [11 23]]\n",
      "              precision    recall  f1-score   support\n",
      "\n",
      "           0       0.73      0.88      0.80        34\n",
      "           1       0.85      0.68      0.75        34\n",
      "\n",
      "    accuracy                           0.78        68\n",
      "   macro avg       0.79      0.78      0.78        68\n",
      "weighted avg       0.79      0.78      0.78        68\n",
      "\n"
     ]
    }
   ],
   "source": [
    "# @ K = 4\n",
    "from sklearn.neighbors import KNeighborsClassifier\n",
    "\n",
    "# Training and fitting a KNN model on the training set\n",
    "knn = KNeighborsClassifier(n_neighbors=10)\n",
    "knn.fit(X_train, y_train)\n",
    "\n",
    "# Predict values for the testing data\n",
    "knn_predict = knn.predict(X_test)\n",
    "\n",
    "# Model evaluation\n",
    "print(confusion_matrix(y_test, knn_predict))\n",
    "print(classification_report(y_test, knn_predict))"
   ]
  },
  {
   "cell_type": "markdown",
   "id": "77c82312",
   "metadata": {},
   "source": [
    "##### Checking for best K value"
   ]
  },
  {
   "cell_type": "code",
   "execution_count": 260,
   "id": "57466e90",
   "metadata": {},
   "outputs": [
    {
     "data": {
      "image/png": "[encoded data removed]",
      "text/plain": [
       "<Figure size 1000x600 with 1 Axes>"
      ]
     },
     "metadata": {},
     "output_type": "display_data"
    }
   ],
   "source": [
    "error_rate = []\n",
    "\n",
    "# Iterate through different values of K\n",
    "for i in range(1, 40):\n",
    "    knn = KNeighborsClassifier(n_neighbors=i)\n",
    "    \n",
    "    knn.fit(X_train, y_train)\n",
    "    \n",
    "    knn_predict_i = knn.predict(X_test)\n",
    "    \n",
    "    error_rate.append(np.mean(knn_predict_i != y_test))\n",
    "# Plot the error rates as against the K values\n",
    "plt.figure(figsize=(10, 6))\n",
    "plt.plot(range(1, 40), error_rate, color='blue', linestyle='dashed', marker='o', markerfacecolor='red', markersize=10)\n",
    "plt.title('Error Rate vs. K value')\n",
    "plt.xlabel('K')\n",
    "plt.ylabel('Error Rate')\n",
    "plt.show()"
   ]
  },
  {
   "cell_type": "code",
   "execution_count": 261,
   "id": "d629fbdd",
   "metadata": {},
   "outputs": [
    {
     "name": "stdout",
     "output_type": "stream",
     "text": [
      "[[31  3]\n",
      " [ 8 26]]\n",
      "              precision    recall  f1-score   support\n",
      "\n",
      "           0       0.79      0.91      0.85        34\n",
      "           1       0.90      0.76      0.83        34\n",
      "\n",
      "    accuracy                           0.84        68\n",
      "   macro avg       0.85      0.84      0.84        68\n",
      "weighted avg       0.85      0.84      0.84        68\n",
      "\n"
     ]
    }
   ],
   "source": [
    "# Re-training the above KNN with the best K value = 40\n",
    "# @ K = 40\n",
    "from sklearn.neighbors import KNeighborsClassifier\n",
    "\n",
    "# Training and fitting a KNN model on the training set\n",
    "knn = KNeighborsClassifier(n_neighbors=40)\n",
    "knn.fit(X_train, y_train)\n",
    "\n",
    "# Predict values for the testing data\n",
    "knn_predict = knn.predict(X_test)\n",
    "\n",
    "# Model evaluation\n",
    "print(confusion_matrix(y_test, knn_predict))\n",
    "print(classification_report(y_test, knn_predict))"
   ]
  },
  {
   "cell_type": "markdown",
   "id": "c760672b",
   "metadata": {},
   "source": [
    "### Result comparising with Support Vector Machine."
   ]
  },
  {
   "cell_type": "code",
   "execution_count": 262,
   "id": "63cbb819",
   "metadata": {},
   "outputs": [
    {
     "name": "stdout",
     "output_type": "stream",
     "text": [
      "[[27  7]\n",
      " [ 8 26]]\n",
      "              precision    recall  f1-score   support\n",
      "\n",
      "           0       0.77      0.79      0.78        34\n",
      "           1       0.79      0.76      0.78        34\n",
      "\n",
      "    accuracy                           0.78        68\n",
      "   macro avg       0.78      0.78      0.78        68\n",
      "weighted avg       0.78      0.78      0.78        68\n",
      "\n"
     ]
    }
   ],
   "source": [
    "from sklearn.svm import SVC\n",
    "\n",
    "# Initiate and fit a SVC model\n",
    "svc = SVC()\n",
    "svc.fit(X_train, y_train.values.ravel())\n",
    "\n",
    "# Make prediction on the test data\n",
    "svc_predict = svc.predict(X_test)\n",
    "\n",
    "# Model evaluation\n",
    "print(confusion_matrix(y_test, svc_predict))\n",
    "print(classification_report(y_test, svc_predict))"
   ]
  },
  {
   "cell_type": "markdown",
   "id": "9742a1a1",
   "metadata": {},
   "source": [
    "# ## NOTE: Referencing the above result comparisim across various tested model, the KNN model with a best K value at 40 gives the better predicitive result when compared to the rest of thr models."
   ]
  },
  {
   "cell_type": "code",
   "execution_count": 61,
   "id": "df8c5c0e",
   "metadata": {},
   "outputs": [],
   "source": []
  },
  {
   "cell_type": "code",
   "execution_count": 62,
   "id": "70af52d5",
   "metadata": {},
   "outputs": [],
   "source": []
  },
  {
   "cell_type": "code",
   "execution_count": null,
   "id": "304dabfb",
   "metadata": {},
   "outputs": [],
   "source": []
  },
  {
   "cell_type": "code",
   "execution_count": 64,
   "id": "12d00a23",
   "metadata": {},
   "outputs": [],
   "source": []
  },
  {
   "cell_type": "code",
   "execution_count": 65,
   "id": "1c3ac361",
   "metadata": {},
   "outputs": [],
   "source": []
  },
  {
   "cell_type": "code",
   "execution_count": null,
   "id": "041b0340",
   "metadata": {},
   "outputs": [],
   "source": []
  },
  {
   "cell_type": "code",
   "execution_count": null,
   "id": "37148860",
   "metadata": {},
   "outputs": [],
   "source": []
  },
  {
   "cell_type": "code",
   "execution_count": null,
   "id": "71ceb2cc",
   "metadata": {},
   "outputs": [],
   "source": []
  },
  {
   "cell_type": "code",
   "execution_count": null,
   "id": "43904d6d",
   "metadata": {},
   "outputs": [],
   "source": [
    "\n",
    "\n",
    "\n",
    "\n",
    "\n",
    "\n",
    "\n",
    "\n",
    "\n",
    "\n",
    "\n",
    "\n",
    "\n",
    "\n",
    "\n",
    "\n",
    "\n",
    "\n",
    "\n",
    "\n",
    "\n",
    "\n",
    "\n",
    "\n",
    "\n",
    "\n",
    "\n",
    "\n",
    "\n",
    "\n",
    "\n",
    "\n",
    "\n",
    "\n",
    "\n",
    "\n",
    "\n",
    "\n",
    "\n",
    "\n",
    "\n",
    "\n",
    "\n",
    "\n",
    "\n",
    "\n",
    "\n",
    "\n",
    "\n",
    "\n",
    "\n",
    "\n",
    "\n",
    "\n",
    "\n",
    "\n",
    "\n",
    "\n",
    "\n",
    "\n",
    "\n",
    "\n",
    "\n",
    "\n",
    "\n"
   ]
  },
  {
   "cell_type": "code",
   "execution_count": null,
   "id": "67f44b39",
   "metadata": {},
   "outputs": [],
   "source": []
  },
  {
   "cell_type": "code",
   "execution_count": 118,
   "id": "d85437bd",
   "metadata": {},
   "outputs": [],
   "source": [
    "\n"
   ]
  },
  {
   "cell_type": "code",
   "execution_count": 128,
   "id": "1e535a74",
   "metadata": {},
   "outputs": [],
   "source": []
  },
  {
   "cell_type": "code",
   "execution_count": 129,
   "id": "e6a80601",
   "metadata": {},
   "outputs": [],
   "source": []
  },
  {
   "cell_type": "code",
   "execution_count": null,
   "id": "ac577cf6",
   "metadata": {},
   "outputs": [],
   "source": []
  },
  {
   "cell_type": "code",
   "execution_count": 131,
   "id": "66b72c36",
   "metadata": {},
   "outputs": [],
   "source": []
  },
  {
   "cell_type": "code",
   "execution_count": null,
   "id": "7285acc9",
   "metadata": {},
   "outputs": [],
   "source": []
  },
  {
   "cell_type": "code",
   "execution_count": null,
   "id": "43849aa0",
   "metadata": {},
   "outputs": [],
   "source": []
  },
  {
   "cell_type": "code",
   "execution_count": null,
   "id": "097d282a",
   "metadata": {},
   "outputs": [],
   "source": []
  },
  {
   "cell_type": "code",
   "execution_count": null,
   "id": "a71702db",
   "metadata": {},
   "outputs": [],
   "source": []
  },
  {
   "cell_type": "code",
   "execution_count": null,
   "id": "22958d6a",
   "metadata": {},
   "outputs": [],
   "source": []
  },
  {
   "cell_type": "code",
   "execution_count": null,
   "id": "23faa906",
   "metadata": {},
   "outputs": [],
   "source": []
  },
  {
   "cell_type": "code",
   "execution_count": null,
   "id": "d7a12ba0",
   "metadata": {},
   "outputs": [],
   "source": []
  },
  {
   "cell_type": "code",
   "execution_count": null,
   "id": "9208a0eb",
   "metadata": {},
   "outputs": [],
   "source": []
  }
 ],
 "metadata": {
  "kernelspec": {
   "display_name": "Python 3 (ipykernel)",
   "language": "python",
   "name": "python3"
  },
  "language_info": {
   "codemirror_mode": {
    "name": "ipython",
    "version": 3
   },
   "file_extension": ".py",
   "mimetype": "text/x-python",
   "name": "python",
   "nbconvert_exporter": "python",
   "pygments_lexer": "ipython3",
   "version": "3.11.4"
  }
 },
 "nbformat": 4,
 "nbformat_minor": 5
}
